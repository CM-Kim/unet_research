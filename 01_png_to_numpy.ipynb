{
 "metadata": {
  "language_info": {
   "codemirror_mode": {
    "name": "ipython",
    "version": 3
   },
   "file_extension": ".py",
   "mimetype": "text/x-python",
   "name": "python",
   "nbconvert_exporter": "python",
   "pygments_lexer": "ipython3",
   "version": "3.8.5-final"
  },
  "orig_nbformat": 2,
  "kernelspec": {
   "name": "python3",
   "display_name": "Python 3.8.5 64-bit ('tensorflow2.0': conda)",
   "metadata": {
    "interpreter": {
     "hash": "646860e3ef292b05c4711bc0215df8d78f663c34f45abe9e800429298354d414"
    }
   }
  }
 },
 "nbformat": 4,
 "nbformat_minor": 2,
 "cells": [
  {
   "cell_type": "code",
   "execution_count": 1,
   "metadata": {},
   "outputs": [],
   "source": [
    "import numpy as np\n",
    "import os\n",
    "import cv2\n",
    "from tqdm import tqdm\n",
    "import time\n",
    "\n",
    "import matplotlib.pyplot as plt"
   ]
  },
  {
   "source": [
    "# Check image"
   ],
   "cell_type": "markdown",
   "metadata": {}
  },
  {
   "cell_type": "code",
   "execution_count": 2,
   "metadata": {},
   "outputs": [],
   "source": [
    "DATA_PATH = r\"dataset\\MRI_T1T2T2F_ROI\"\n",
    "\n",
    "image = cv2.imread(os.path.join(DATA_PATH,os.listdir(DATA_PATH)[1]),cv2.IMREAD_GRAYSCALE)\n",
    "image = cv2.resize(image, dsize=(512, 512), interpolation=cv2.INTER_NEAREST)\n",
    "\n",
    "image = np.array(image)\n",
    "np.save(\"test\",image)\n",
    "\n",
    "# plt.figure(figsize=(8,30))\n",
    "\n",
    "# image_file = np.load(r\"test.npy\")\n",
    "# plt.subplot(3,3,1)\n",
    "# plt.imshow(image_file,cmap='gray')\n",
    "\n",
    "# image = np.clip(image_file,0,255)\n",
    "# plt.subplot(3,3,2)\n",
    "# plt.imshow(image,cmap='gray')\n"
   ]
  },
  {
   "cell_type": "code",
   "execution_count": 3,
   "metadata": {},
   "outputs": [],
   "source": [
    "def pngToNumpy(dir_path : str, output_path : str):\n",
    "    FILES = os.listdir(dir_path)\n",
    "    images = []\n",
    "\n",
    "    try:\n",
    "        for img in tqdm(FILES, desc=\"png to inumpy\", mininterval=0.02):\n",
    "            img_path = os.path.join(dir_path,img)\n",
    "            image = cv2.imread(img_path, cv2.IMREAD_GRAYSCALE)\n",
    "            image = cv2.resize(image, dsize=(512, 512), interpolation=cv2.INTER_NEAREST)\n",
    "            images.append(image)\n",
    "    except Exception as e:\n",
    "        print(e, img)\n",
    "\n",
    "    # numpy array로 변환 후 저장\n",
    "    images = np.array(images)\n",
    "    np.save(output_path, images)"
   ]
  },
  {
   "source": [
    "## T1W image load"
   ],
   "cell_type": "markdown",
   "metadata": {}
  },
  {
   "cell_type": "code",
   "execution_count": 9,
   "metadata": {},
   "outputs": [
    {
     "output_type": "stream",
     "name": "stderr",
     "text": [
      "png to inumpy:   0%|          | 0/1084 [00:00<?, ?it/s]\n"
     ]
    }
   ],
   "source": [
    "# T1W 이미지들 load\n",
    "T1W_PATH = r'dataset\\T1W_brain_pic'\n",
    "OUTPUT_PATH = r'dataset\\numpy\\T1W_images.npy'\n",
    "\n",
    "pngToNumpy(dir_path = T1W_PATH, output_path = OUTPUT_PATH)"
   ]
  },
  {
   "source": [
    "## T2F image load"
   ],
   "cell_type": "markdown",
   "metadata": {}
  },
  {
   "cell_type": "code",
   "execution_count": 5,
   "metadata": {},
   "outputs": [
    {
     "output_type": "stream",
     "name": "stderr",
     "text": [
      "png to inumpy:   0%|          | 0/1084 [00:00<?, ?it/s]\n"
     ]
    }
   ],
   "source": [
    "# T2F 이미지들 load\n",
    "T2F_PATH = r'dataset\\T2F_brain_pic'\n",
    "OUTPUT_PATH = r\"dataset\\numpy\\T2F_images.npy\"\n",
    "\n",
    "pngToNumpy(dir_path = T2F_PATH, output_path = OUTPUT_PATH)"
   ]
  },
  {
   "source": [
    "## T2W image load"
   ],
   "cell_type": "markdown",
   "metadata": {}
  },
  {
   "cell_type": "code",
   "execution_count": 6,
   "metadata": {},
   "outputs": [
    {
     "output_type": "stream",
     "name": "stderr",
     "text": [
      "png to inumpy:   0%|          | 0/1084 [00:00<?, ?it/s]\n"
     ]
    }
   ],
   "source": [
    "# T2W 이미지들 load\n",
    "T2W_PATH = r'dataset\\T2W_brain_pic'\n",
    "OUTPUT_PATH = r\"dataset\\numpy\\T2W_images.npy\"\n",
    "\n",
    "pngToNumpy(dir_path = T2W_PATH, output_path = OUTPUT_PATH)"
   ]
  },
  {
   "source": [
    "## Mask image load"
   ],
   "cell_type": "markdown",
   "metadata": {}
  },
  {
   "cell_type": "code",
   "execution_count": 7,
   "metadata": {},
   "outputs": [
    {
     "output_type": "stream",
     "name": "stderr",
     "text": [
      "png to inumpy:   0%|          | 0/1084 [00:00<?, ?it/s]\n"
     ]
    }
   ],
   "source": [
    "# mask 이미지들 load\n",
    "MASK_PATH = r'dataset\\Mask_brain_pic'\n",
    "OUTPUT_PATH = r\"dataset\\numpy\\Mask_images.npy\"\n",
    "\n",
    "pngToNumpy(dir_path = MASK_PATH, output_path = OUTPUT_PATH)"
   ]
  }
 ]
}