{
 "metadata": {
  "language_info": {
   "codemirror_mode": {
    "name": "ipython",
    "version": 3
   },
   "file_extension": ".py",
   "mimetype": "text/x-python",
   "name": "python",
   "nbconvert_exporter": "python",
   "pygments_lexer": "ipython3",
   "version": "3.7.9-final"
  },
  "orig_nbformat": 2,
  "kernelspec": {
   "name": "python3",
   "display_name": "Python 3.7.9 64-bit ('tensorflow2.0': conda)",
   "metadata": {
    "interpreter": {
     "hash": "646860e3ef292b05c4711bc0215df8d78f663c34f45abe9e800429298354d414"
    }
   }
  }
 },
 "nbformat": 4,
 "nbformat_minor": 2,
 "cells": [
  {
   "cell_type": "code",
   "execution_count": 3,
   "metadata": {},
   "outputs": [
    {
     "output_type": "stream",
     "name": "stdout",
     "text": [
      "tf.Tensor([1 2 3 4], shape=(4,), dtype=int32) tf.Tensor([1 2 3 4], shape=(4,), dtype=int32)\ntf.Tensor([ 1  4  9 16], shape=(4,), dtype=int32)\n"
     ]
    }
   ],
   "source": [
    "import tensorflow as tf\n",
    "from keras import backend as K\n",
    "\n",
    "a = tf.constant([[1,2],[3,4]])\n",
    "b = tf.constant([[1,2],[3,4]])\n",
    "\n",
    "a = K.flatten(a);\n",
    "b = K.flatten(b);\n",
    "\n",
    "print(a,b)\n",
    "\n",
    "print(a*b)"
   ]
  },
  {
   "cell_type": "code",
   "execution_count": null,
   "metadata": {},
   "outputs": [],
   "source": []
  }
 ]
}