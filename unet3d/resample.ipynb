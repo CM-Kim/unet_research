{
 "metadata": {
  "language_info": {
   "codemirror_mode": {
    "name": "ipython",
    "version": 3
   },
   "file_extension": ".py",
   "mimetype": "text/x-python",
   "name": "python",
   "nbconvert_exporter": "python",
   "pygments_lexer": "ipython3",
   "version": "3.8.8-final"
  },
  "orig_nbformat": 2,
  "kernelspec": {
   "name": "python3",
   "display_name": "Python 3.8.8 64-bit ('torch': conda)",
   "metadata": {
    "interpreter": {
     "hash": "62b36ad15c9cb3cf8ba13ba90ae4a5eecbbb07a7ead0fedcbc156bc940ebce47"
    }
   }
  }
 },
 "nbformat": 4,
 "nbformat_minor": 2,
 "cells": [
  {
   "cell_type": "code",
   "execution_count": 11,
   "metadata": {},
   "outputs": [
    {
     "output_type": "stream",
     "name": "stdout",
     "text": [
      "torch.Size([1, 10, 20, 30])\ntorch.Size([1, 5, 10, 15])\n"
     ]
    }
   ],
   "source": [
    "import torch\n",
    "import torchio as tio\n",
    "\n",
    "target = torch.randn(1,10,20,30)\n",
    "\n",
    "print(target.shape)\n",
    "target = tio.Resample(2)(target)\n",
    "print(target.shape)\n",
    "\n",
    "target = torch.randn(1,10,20,30)\n",
    "print(target.shape)\n",
    "print(target.shape)"
   ]
  },
  {
   "cell_type": "code",
   "execution_count": null,
   "metadata": {},
   "outputs": [],
   "source": []
  }
 ]
}