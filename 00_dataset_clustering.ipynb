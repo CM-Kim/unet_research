{
 "cells": [
  {
   "cell_type": "code",
   "execution_count": 3,
   "metadata": {},
   "outputs": [],
   "source": [
    "import os\n",
    "import shutil\n",
    "from tqdm import tqdm\n",
    "import time"
   ]
  },
  {
   "source": [
    "# Setting Path"
   ],
   "cell_type": "markdown",
   "metadata": {}
  },
  {
   "cell_type": "code",
   "execution_count": 4,
   "metadata": {},
   "outputs": [
    {
     "output_type": "error",
     "ename": "FileExistsError",
     "evalue": "[WinError 183] 파일이 이미 있으므로 만들 수 없습니다: 'dataset\\\\T1W_brain_pic'",
     "traceback": [
      "\u001b[1;31m---------------------------------------------------------------------------\u001b[0m",
      "\u001b[1;31mFileExistsError\u001b[0m                           Traceback (most recent call last)",
      "\u001b[1;32m<ipython-input-4-075d8e17d788>\u001b[0m in \u001b[0;36m<module>\u001b[1;34m()\u001b[0m\n\u001b[0;32m      4\u001b[0m \u001b[0mMASK_PATH\u001b[0m \u001b[1;33m=\u001b[0m \u001b[1;34mr\"dataset\\Mask_brain_pic\"\u001b[0m\u001b[1;33m\u001b[0m\u001b[0m\n\u001b[0;32m      5\u001b[0m \u001b[1;33m\u001b[0m\u001b[0m\n\u001b[1;32m----> 6\u001b[1;33m \u001b[0mos\u001b[0m\u001b[1;33m.\u001b[0m\u001b[0mmkdir\u001b[0m\u001b[1;33m(\u001b[0m\u001b[0mT1W_PATH\u001b[0m\u001b[1;33m)\u001b[0m \u001b[1;32mif\u001b[0m \u001b[0mos\u001b[0m\u001b[1;33m.\u001b[0m\u001b[0mpath\u001b[0m\u001b[1;33m.\u001b[0m\u001b[0misdir\u001b[0m\u001b[1;33m(\u001b[0m\u001b[0mT1W_PATH\u001b[0m\u001b[1;33m)\u001b[0m \u001b[1;32melse\u001b[0m \u001b[0mprint\u001b[0m\u001b[1;33m(\u001b[0m\u001b[1;34m\"{T1W_PATH} already existed\"\u001b[0m\u001b[1;33m)\u001b[0m\u001b[1;33m\u001b[0m\u001b[0m\n\u001b[0m\u001b[0;32m      7\u001b[0m \u001b[0mos\u001b[0m\u001b[1;33m.\u001b[0m\u001b[0mmkdir\u001b[0m\u001b[1;33m(\u001b[0m\u001b[0mT1W_PATH\u001b[0m\u001b[1;33m)\u001b[0m \u001b[1;32mif\u001b[0m \u001b[0mos\u001b[0m\u001b[1;33m.\u001b[0m\u001b[0mpath\u001b[0m\u001b[1;33m.\u001b[0m\u001b[0misdir\u001b[0m\u001b[1;33m(\u001b[0m\u001b[0mT1W_PATH\u001b[0m\u001b[1;33m)\u001b[0m \u001b[1;32melse\u001b[0m \u001b[0mprint\u001b[0m\u001b[1;33m(\u001b[0m\u001b[1;34m\"{T1W_PATH} already existed\"\u001b[0m\u001b[1;33m)\u001b[0m\u001b[1;33m\u001b[0m\u001b[0m\n\u001b[0;32m      8\u001b[0m \u001b[0mos\u001b[0m\u001b[1;33m.\u001b[0m\u001b[0mmkdir\u001b[0m\u001b[1;33m(\u001b[0m\u001b[0mT1W_PATH\u001b[0m\u001b[1;33m)\u001b[0m \u001b[1;32mif\u001b[0m \u001b[0mos\u001b[0m\u001b[1;33m.\u001b[0m\u001b[0mpath\u001b[0m\u001b[1;33m.\u001b[0m\u001b[0misdir\u001b[0m\u001b[1;33m(\u001b[0m\u001b[0mT1W_PATH\u001b[0m\u001b[1;33m)\u001b[0m \u001b[1;32melse\u001b[0m \u001b[0mprint\u001b[0m\u001b[1;33m(\u001b[0m\u001b[1;34m\"{T1W_PATH} already existed\"\u001b[0m\u001b[1;33m)\u001b[0m\u001b[1;33m\u001b[0m\u001b[0m\n",
      "\u001b[1;31mFileExistsError\u001b[0m: [WinError 183] 파일이 이미 있으므로 만들 수 없습니다: 'dataset\\\\T1W_brain_pic'"
     ]
    }
   ],
   "source": [
    "T1W_PATH = r\"dataset\\T1W_brain_pic\"\n",
    "T2F_PATH = r\"dataset\\T2F_brain_pic\"\n",
    "T2W_PATH = r\"dataset\\T2W_brain_pic\"\n",
    "MASK_PATH = r\"dataset\\Mask_brain_pic\"\n",
    "\n",
    "os.mkdir(T1W_PATH) if not os.path.isdir(T1W_PATH) else print(\"{T1W_PATH} already existed\")\n",
    "os.mkdir(T1W_PATH) if not os.path.isdir(T1W_PATH) else print(\"{T1W_PATH} already existed\")\n",
    "os.mkdir(T1W_PATH) if not os.path.isdir(T1W_PATH) else print(\"{T1W_PATH} already existed\")\n",
    "os.mkdir(T1W_PATH) if not os.path.isdir(T1W_PATH) else print(\"{T1W_PATH} already existed\")\n",
    "\n",
    "DATA_PATH = r\"dataset\\MRI_T1T2T2F_ROI\"\n"
   ]
  },
  {
   "source": [
    "# Cluster Data"
   ],
   "cell_type": "markdown",
   "metadata": {}
  },
  {
   "source": [
    "try:\n",
    "    for filename in tqdm(os.listdir(DATA_PATH), desc=\"copy file\", mininterval=0.02):\n",
    "        ## example. \"0046_20180613_100115_01_ROI.png\" to \"ROI\"\n",
    "        extention = os.path.splitext(filename)[0].split('_')[-1]    \n",
    "\n",
    "        srcDir = os.path.join(DATA_PATH,filename)\n",
    "        destDir = \"\"\n",
    "        if extention == \"T1W\":\n",
    "            destDir = os.path.join(T1W_PATH,filename)\n",
    "        elif extention == \"T2F\":\n",
    "            destDir = os.path.join(T2F_PATH,filename)\n",
    "        elif extention == \"T2W\":\n",
    "            destDir = os.path.join(T2W_PATH,filename)\n",
    "        elif extention == \"ROI\":\n",
    "            destDir = os.path.join(MASK_PATH,filename)\n",
    "\n",
    "        shutil.copy(srcDir,destDir)\n",
    "except Exception as e:\n",
    "    print(e)"
   ],
   "cell_type": "code",
   "metadata": {},
   "execution_count": 24,
   "outputs": []
  },
  {
   "cell_type": "code",
   "execution_count": null,
   "metadata": {},
   "outputs": [],
   "source": []
  },
  {
   "cell_type": "code",
   "execution_count": null,
   "metadata": {},
   "outputs": [],
   "source": []
  }
 ],
 "metadata": {
  "kernelspec": {
   "name": "python3",
   "display_name": "Python 3",
   "language": "python"
  },
  "language_info": {
   "codemirror_mode": {
    "name": "ipython",
    "version": 3
   },
   "file_extension": ".py",
   "mimetype": "text/x-python",
   "name": "python",
   "nbconvert_exporter": "python",
   "pygments_lexer": "ipython3",
   "version": "3.6.5-final"
  }
 },
 "nbformat": 4,
 "nbformat_minor": 2
}