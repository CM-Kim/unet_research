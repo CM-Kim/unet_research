{
 "cells": [
  {
   "cell_type": "code",
   "execution_count": 65,
   "metadata": {},
   "outputs": [],
   "source": [
    "import os\n",
    "import shutil\n",
    "from tqdm import tqdm\n",
    "import time\n",
    "import cv2\n",
    "import numpy as np"
   ]
  },
  {
   "source": [
    "# Setting Path"
   ],
   "cell_type": "markdown",
   "metadata": {}
  },
  {
   "cell_type": "code",
   "execution_count": null,
   "metadata": {},
   "outputs": [],
   "source": [
    "T1W_PATH = r\"dataset\\T1W_brain_pic\"\n",
    "T2F_PATH = r\"dataset\\T2F_brain_pic\"\n",
    "T2W_PATH = r\"dataset\\T2W_brain_pic\"\n",
    "MASK_PATH = r\"dataset\\Mask_brain_pic\"\n",
    "\n",
    "os.mkdir(T1W_PATH) if not os.path.isdir(T1W_PATH) else print(\"{T1W_PATH} already existed\")\n",
    "os.mkdir(T2F_PATH) if not os.path.isdir(T2F_PATH) else print(\"{T2F_PATH} already existed\")\n",
    "os.mkdir(T2W_PATH) if not os.path.isdir(T2W_PATH) else print(\"{T2W_PATH} already existed\")\n",
    "os.mkdir(MASK_PATH) if not os.path.isdir(MASK_PATH) else print(\"{MASK_PATH} already existed\")\n",
    "\n",
    "DATA_PATH = r\"dataset\\MRI_T1T2T2F_ROI\""
   ]
  },
  {
   "source": [
    "# Options"
   ],
   "cell_type": "markdown",
   "metadata": {}
  },
  {
   "cell_type": "code",
   "execution_count": 62,
   "metadata": {},
   "outputs": [],
   "source": [
    "INCLUDE_EMPTY_MASK = False"
   ]
  },
  {
   "source": [
    "# Cluster Data"
   ],
   "cell_type": "markdown",
   "metadata": {}
  },
  {
   "cell_type": "code",
   "execution_count": 63,
   "metadata": {},
   "outputs": [],
   "source": [
    "def is_img_empty(img):\n",
    "    if np.any(img >= 1):\n",
    "        return False\n",
    "    return True"
   ]
  },
  {
   "source": [
    "try:\n",
    "\n",
    "    count = 0\n",
    "\n",
    "    for filename in tqdm(os.listdir(DATA_PATH), desc=\"copy file\", mininterval=0.02):\n",
    "        \n",
    "        ## example. \"0046_20180613_100115_01_ROI.png\" to \"ROI\"\n",
    "        extention = os.path.splitext(filename)[0].split('_')[-1]    \n",
    "\n",
    "        srcDir = os.path.join(DATA_PATH,filename)\n",
    "        destDir = \"\"\n",
    "\n",
    "        if extention == \"T1W\":\n",
    "            destDir = os.path.join(T1W_PATH,filename)\n",
    "        elif extention == \"T2F\":\n",
    "            destDir = os.path.join(T2F_PATH,filename)\n",
    "        elif extention == \"T2W\":\n",
    "            destDir = os.path.join(T2W_PATH,filename)\n",
    "        elif extention == \"ROI\":\n",
    "            destDir = os.path.join(MASK_PATH,filename)\n",
    "\n",
    "        shutil.copy(srcDir,destDir)\n",
    "\n",
    "    print(f\"total copyed image : {count}\")\n",
    "except Exception as e:\n",
    "    print(e)"
   ],
   "cell_type": "code",
   "metadata": {
    "tags": []
   },
   "execution_count": 64,
   "outputs": [
    {
     "output_type": "stream",
     "name": "stderr",
     "text": [
      "copy file: 100%|██████████| 4336/4336 [00:03<00:00, 1274.84it/s]total copyed image : 0\n",
      "\n"
     ]
    }
   ]
  },
  {
   "cell_type": "code",
   "execution_count": 81,
   "metadata": {
    "tags": []
   },
   "outputs": [
    {
     "output_type": "stream",
     "name": "stderr",
     "text": [
      "delete file with empty mask: 100%|██████████| 2748/2748 [00:00<00:00, 7507.76it/s]\n"
     ]
    }
   ],
   "source": [
    "\n",
    "\n",
    "if not INCLUDE_EMPTY_MASK:\n",
    "\n",
    "    delete_list = []\n",
    "\n",
    "    for img in os.listdir(MASK_PATH):\n",
    "        if img.endswith('_ROI.png'):\n",
    "            IMG_PATH = os.path.join(MASK_PATH,img)\n",
    "            image = cv2.imread(IMG_PATH, cv2.IMREAD_GRAYSCALE)\n",
    "\n",
    "            if is_img_empty(np.array(image)):\n",
    "                delete_list.append(img[:24] + \"ROI.png\")\n",
    "                delete_list.append(img[:24] + \"T1W.png\")\n",
    "                delete_list.append(img[:24] + \"T2F.png\")\n",
    "                delete_list.append(img[:24] + \"T2W.png\")\n",
    "\n",
    "    for target in tqdm(delete_list, desc='delete file with empty mask'):\n",
    "        \n",
    "        target_path = ''\n",
    "\n",
    "        if target.endswith('_ROI.png'):\n",
    "            target_path = os.path.join(MASK_PATH,target)\n",
    "        elif target.endswith('_T1W.png'):\n",
    "            target_path = os.path.join(T1W_PATH,target)\n",
    "        elif target.endswith('_T2F.png'):\n",
    "            target_path = os.path.join(T2F_PATH,target)\n",
    "        elif target.endswith('_T2W.png'):\n",
    "            target_path = os.path.join(T2W_PATH,target)\n",
    "\n",
    "        os.remove(target_path)"
   ]
  },
  {
   "cell_type": "code",
   "execution_count": null,
   "metadata": {},
   "outputs": [],
   "source": []
  }
 ],
 "metadata": {
  "kernelspec": {
   "name": "python3",
   "display_name": "Python 3.8.5 64-bit ('tensorflow2.0': conda)",
   "metadata": {
    "interpreter": {
     "hash": "646860e3ef292b05c4711bc0215df8d78f663c34f45abe9e800429298354d414"
    }
   }
  },
  "language_info": {
   "codemirror_mode": {
    "name": "ipython",
    "version": 3
   },
   "file_extension": ".py",
   "mimetype": "text/x-python",
   "name": "python",
   "nbconvert_exporter": "python",
   "pygments_lexer": "ipython3",
   "version": "3.8.5-final"
  }
 },
 "nbformat": 4,
 "nbformat_minor": 2
}