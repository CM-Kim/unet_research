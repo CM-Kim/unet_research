{
 "metadata": {
  "language_info": {
   "codemirror_mode": {
    "name": "ipython",
    "version": 3
   },
   "file_extension": ".py",
   "mimetype": "text/x-python",
   "name": "python",
   "nbconvert_exporter": "python",
   "pygments_lexer": "ipython3",
   "version": "3.7.9"
  },
  "orig_nbformat": 2,
  "kernelspec": {
   "name": "python3",
   "display_name": "Python 3",
   "language": "python"
  }
 },
 "nbformat": 4,
 "nbformat_minor": 2,
 "cells": [
  {
   "cell_type": "code",
   "execution_count": 25,
   "metadata": {},
   "outputs": [],
   "source": [
    "import numpy as np\n",
    "import cv2\n",
    "import os\n",
    "from tqdm import tqdm\n",
    "import time\n",
    "import matplotlib.pyplot as plt"
   ]
  },
  {
   "cell_type": "code",
   "execution_count": 26,
   "metadata": {},
   "outputs": [],
   "source": [
    "def isMSLesionImage(img):\n",
    "    if np.any(img >= 1):\n",
    "        return 1\n",
    "\n",
    "    return 0"
   ]
  },
  {
   "cell_type": "code",
   "execution_count": 27,
   "metadata": {},
   "outputs": [
    {
     "output_type": "stream",
     "name": "stderr",
     "text": [
      "png to inumpy: 100%|██████████| 395/395 [00:00<00:00, 1106.23it/s]\n"
     ]
    }
   ],
   "source": [
    "labels = []\n",
    "\n",
    "MASK_PATH = r\"dataset\\Mask_brain_pic\"\n",
    "FILES = os.listdir(MASK_PATH);\n",
    "OUTPUT_PATH = r\"dataset\\numpy\\labels.npy\"\n",
    "\n",
    "try:\n",
    "    for img in tqdm(FILES, desc=\"png to inumpy\", mininterval=0.02):\n",
    "        img_path = os.path.join(MASK_PATH,img)\n",
    "        image = cv2.imread(img_path)\n",
    "        labels.append(isMSLesionImage(np.array(image)))\n",
    "except Exception as e:\n",
    "    print(e, img)\n",
    "\n",
    "labels = np.array(labels)\n",
    "np.save(OUTPUT_PATH,labels)\n"
   ]
  },
  {
   "cell_type": "code",
   "execution_count": 28,
   "metadata": {},
   "outputs": [
    {
     "output_type": "stream",
     "name": "stdout",
     "text": [
      "0.0 1.0\n"
     ]
    }
   ],
   "source": [
    "print(np.sum(labels)/len(labels),(len(labels)- np.sum(labels))/len(labels))\n"
   ]
  },
  {
   "cell_type": "code",
   "execution_count": null,
   "metadata": {},
   "outputs": [],
   "source": []
  }
 ]
}